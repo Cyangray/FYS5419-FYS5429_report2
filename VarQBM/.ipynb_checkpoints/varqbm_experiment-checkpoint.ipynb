{
 "cells": [
  {
   "cell_type": "markdown",
   "id": "8535e76e-7e92-4d0e-8bf8-d3bfe9a659a1",
   "metadata": {},
   "source": [
    "## VarQBM\n",
    "\n",
    "This Jupyter notebook is mostly the same as the one found in Leevi Lehtonen's Master's degree work in https://github.com/leevilehtonen/tfq-varqbm/tree/main, here only modified for plotting purposes."
   ]
  },
  {
   "cell_type": "code",
   "execution_count": 1,
   "id": "87985ac8",
   "metadata": {
    "tags": []
   },
   "outputs": [
    {
     "name": "stderr",
     "output_type": "stream",
     "text": [
      "2024-05-18 20:53:16.443994: W tensorflow/stream_executor/platform/default/dso_loader.cc:64] Could not load dynamic library 'libcudart.so.11.0'; dlerror: libcudart.so.11.0: cannot open shared object file: No such file or directory\n",
      "2024-05-18 20:53:16.444019: I tensorflow/stream_executor/cuda/cudart_stub.cc:29] Ignore above cudart dlerror if you do not have a GPU set up on your machine.\n",
      "2024-05-18 20:53:21.327574: E tensorflow/stream_executor/cuda/cuda_driver.cc:271] failed call to cuInit: CUDA_ERROR_NO_DEVICE: no CUDA-capable device is detected\n",
      "2024-05-18 20:53:21.327608: I tensorflow/stream_executor/cuda/cuda_diagnostics.cc:156] kernel driver does not appear to be running on this host (francesco-X1Y4): /proc/driver/nvidia/version does not exist\n",
      "2024-05-18 20:53:21.328482: I tensorflow/core/platform/cpu_feature_guard.cc:151] This TensorFlow binary is optimized with oneAPI Deep Neural Network Library (oneDNN) to use the following CPU instructions in performance-critical operations:  AVX2 FMA\n",
      "To enable them in other operations, rebuild TensorFlow with the appropriate compiler flags.\n",
      "/home/francesco/tfq-varqbm/qite.py:7: TqdmWarning: IProgress not found. Please update jupyter and ipywidgets. See https://ipywidgets.readthedocs.io/en/stable/user_install.html\n",
      "  from tqdm.autonotebook import tqdm, trange\n"
     ]
    }
   ],
   "source": [
    "import cirq\n",
    "import numpy as np\n",
    "import tensorflow as tf\n",
    "import tensorflow_quantum as tfq\n",
    "import pandas as pd\n",
    "\n",
    "from qite import QITE\n",
    "from qbm import QBM\n",
    "from circuit import build_ansatz, initialize_ansatz_symbols\n",
    "from problem import build_ising_model_hamiltonian\n",
    "from hamiltonian import Hamiltonian\n",
    "from utils import evaluate_exact_state, plot_density_matrix_heatmap, get_ancillary_qubits, save_circuit_to_svg, circuit_to_state\n",
    "from dataset import bars_and_stripes_probability, bars_and_stripes, samples_from_distribution, plot_dataset"
   ]
  },
  {
   "cell_type": "markdown",
   "id": "9f1ba4ca",
   "metadata": {},
   "source": [
    "## Define dataset\n",
    "\n",
    "Define dataset, that is the bar and stripes on 2x2 grid (simplified by considering empty and fully filled as invalid values) "
   ]
  },
  {
   "cell_type": "code",
   "execution_count": 2,
   "id": "b318cc94",
   "metadata": {
    "tags": []
   },
   "outputs": [
    {
     "name": "stdout",
     "output_type": "stream",
     "text": [
      "[0.   0.   0.   0.25 0.   0.25 0.   0.   0.   0.   0.25 0.   0.25 0.\n",
      " 0.   0.  ]\n"
     ]
    }
   ],
   "source": [
    "p_data = tf.convert_to_tensor(\n",
    "    bars_and_stripes_probability(bars_and_stripes(n=100000, no_fills_or_empties=True))\n",
    ")\n",
    "print(np.around(p_data.numpy(),2))"
   ]
  },
  {
   "cell_type": "code",
   "execution_count": 3,
   "id": "8146fa3d-dc7f-49da-aaad-24c72a0ea4e4",
   "metadata": {
    "tags": []
   },
   "outputs": [],
   "source": [
    "example_BAS = bars_and_stripes(n=25,no_fills_or_empties=True)\n",
    "plot_dataset(example_BAS, file_format=\"pdf\", size=2, cmap=None, desc=None, shape=(5,5), sort=True, save=True, name='BAS_dataset', titles = False)"
   ]
  },
  {
   "cell_type": "markdown",
   "id": "22bd264e",
   "metadata": {},
   "source": [
    "## Define Hamiltonian and qubits\n",
    "\n",
    "Define Hamiltonian of which coefficients are to be trained so that the thermal state's sampling probabilties would be as close as possible to the data distribution"
   ]
  },
  {
   "cell_type": "code",
   "execution_count": 23,
   "id": "281d6a5a",
   "metadata": {
    "tags": []
   },
   "outputs": [
    {
     "name": "stdout",
     "output_type": "stream",
     "text": [
      "1.000*Z((0, 0))*Z((1, 0))+1.000*Z((0, 0))*Z((2, 0))+1.000*Z((0, 0))*Z((3, 0))+1.000*Z((1, 0))*Z((2, 0))+1.000*Z((1, 0))*Z((3, 0))+1.000*Z((2, 0))*Z((3, 0))+1.000*Z((0, 0))+1.000*Z((1, 0))+1.000*Z((2, 0))+1.000*Z((3, 0))\n",
      "-0.883*Z((0, 0))*Z((1, 0))+0.887*Z((0, 0))*Z((2, 0))+0.227*Z((0, 0))*Z((3, 0))+0.769*Z((1, 0))*Z((2, 0))+0.206*Z((1, 0))*Z((3, 0))-0.234*Z((2, 0))*Z((3, 0))-0.326*Z((0, 0))-0.428*Z((1, 0))-0.221*Z((2, 0))+0.976*Z((3, 0))\n"
     ]
    }
   ],
   "source": [
    "ising_model, problem_qubits = build_ising_model_hamiltonian(\n",
    "    [4], transverse=None\n",
    ")\n",
    "ancillary_qubits = get_ancillary_qubits(problem_qubits)\n",
    "qubits = [*problem_qubits, *ancillary_qubits]\n",
    "initial_coefficients = tf.random.uniform(\n",
    "    [len(ising_model)], minval=-1, maxval=1\n",
    ")\n",
    "hamiltonian = Hamiltonian(\n",
    "    ising_model,\n",
    "    coefficients=tf.Variable(\n",
    "        tf.identity(initial_coefficients)\n",
    "    ),\n",
    ")\n",
    "print(hamiltonian)"
   ]
  },
  {
   "cell_type": "markdown",
   "id": "7c43c1af",
   "metadata": {},
   "source": [
    "## Define the quantum circuit\n",
    "\n",
    "Define the quantum circuit that is used for VarQITE and the preparation of the thermal state"
   ]
  },
  {
   "cell_type": "code",
   "execution_count": 5,
   "id": "e33333f8",
   "metadata": {
    "tags": []
   },
   "outputs": [
    {
     "name": "stderr",
     "output_type": "stream",
     "text": [
      "findfont: Font family ['Arial'] not found. Falling back to DejaVu Sans.\n"
     ]
    },
    {
     "data": {
      "image/svg+xml": [
       "<svg xmlns=\"http://www.w3.org/2000/svg\" width=\"3511.944296875\" height=\"440.0\"><line x1=\"34.7588671875\" x2=\"3481.944296875\" y1=\"45.0\" y2=\"45.0\" stroke=\"#1967d2\" stroke-width=\"1\" /><line x1=\"34.7588671875\" x2=\"3481.944296875\" y1=\"95.0\" y2=\"95.0\" stroke=\"#1967d2\" stroke-width=\"1\" /><line x1=\"34.7588671875\" x2=\"3481.944296875\" y1=\"145.0\" y2=\"145.0\" stroke=\"#1967d2\" stroke-width=\"1\" /><line x1=\"34.7588671875\" x2=\"3481.944296875\" y1=\"195.0\" y2=\"195.0\" stroke=\"#1967d2\" stroke-width=\"1\" /><line x1=\"34.7588671875\" x2=\"3481.944296875\" y1=\"245.0\" y2=\"245.0\" stroke=\"#1967d2\" stroke-width=\"1\" /><line x1=\"34.7588671875\" x2=\"3481.944296875\" y1=\"295.0\" y2=\"295.0\" stroke=\"#1967d2\" stroke-width=\"1\" /><line x1=\"34.7588671875\" x2=\"3481.944296875\" y1=\"345.0\" y2=\"345.0\" stroke=\"#1967d2\" stroke-width=\"1\" /><line x1=\"34.7588671875\" x2=\"3481.944296875\" y1=\"395.0\" y2=\"395.0\" stroke=\"#1967d2\" stroke-width=\"1\" /><line x1=\"3291.944296875\" x2=\"3461.944296875\" y1=\"5.0\" y2=\"5.0\" stroke=\"black\" stroke-width=\"1\" /><line x1=\"3291.944296875\" x2=\"3461.944296875\" y1=\"435.0\" y2=\"435.0\" stroke=\"black\" stroke-width=\"1\" /><line x1=\"374.7348828125\" x2=\"374.7348828125\" y1=\"45.0\" y2=\"95.0\" stroke=\"black\" stroke-width=\"3\" /><line x1=\"480.0800390625\" x2=\"480.0800390625\" y1=\"95.0\" y2=\"145.0\" stroke=\"black\" stroke-width=\"3\" /><line x1=\"585.4251953125\" x2=\"585.4251953125\" y1=\"145.0\" y2=\"195.0\" stroke=\"black\" stroke-width=\"3\" /><line x1=\"690.7703515625001\" x2=\"690.7703515625001\" y1=\"195.0\" y2=\"245.0\" stroke=\"black\" stroke-width=\"3\" /><line x1=\"796.1155078125001\" x2=\"796.1155078125001\" y1=\"245.0\" y2=\"295.0\" stroke=\"black\" stroke-width=\"3\" /><line x1=\"901.4606640625002\" x2=\"901.4606640625002\" y1=\"295.0\" y2=\"345.0\" stroke=\"black\" stroke-width=\"3\" /><line x1=\"1006.8058203125003\" x2=\"1006.8058203125003\" y1=\"345.0\" y2=\"395.0\" stroke=\"black\" stroke-width=\"3\" /><line x1=\"1364.6955468750004\" x2=\"1364.6955468750004\" y1=\"45.0\" y2=\"95.0\" stroke=\"black\" stroke-width=\"3\" /><line x1=\"1470.0407031250004\" x2=\"1470.0407031250004\" y1=\"95.0\" y2=\"145.0\" stroke=\"black\" stroke-width=\"3\" /><line x1=\"1575.3858593750003\" x2=\"1575.3858593750003\" y1=\"145.0\" y2=\"195.0\" stroke=\"black\" stroke-width=\"3\" /><line x1=\"1680.7310156250003\" x2=\"1680.7310156250003\" y1=\"195.0\" y2=\"245.0\" stroke=\"black\" stroke-width=\"3\" /><line x1=\"1786.0761718750002\" x2=\"1786.0761718750002\" y1=\"245.0\" y2=\"295.0\" stroke=\"black\" stroke-width=\"3\" /><line x1=\"1891.4213281250002\" x2=\"1891.4213281250002\" y1=\"295.0\" y2=\"345.0\" stroke=\"black\" stroke-width=\"3\" /><line x1=\"1996.7664843750001\" x2=\"1996.7664843750001\" y1=\"345.0\" y2=\"395.0\" stroke=\"black\" stroke-width=\"3\" /><line x1=\"2354.6562109375004\" x2=\"2354.6562109375004\" y1=\"45.0\" y2=\"95.0\" stroke=\"black\" stroke-width=\"3\" /><line x1=\"2460.0013671875004\" x2=\"2460.0013671875004\" y1=\"95.0\" y2=\"145.0\" stroke=\"black\" stroke-width=\"3\" /><line x1=\"2565.3465234375003\" x2=\"2565.3465234375003\" y1=\"145.0\" y2=\"195.0\" stroke=\"black\" stroke-width=\"3\" /><line x1=\"2670.6916796875003\" x2=\"2670.6916796875003\" y1=\"195.0\" y2=\"245.0\" stroke=\"black\" stroke-width=\"3\" /><line x1=\"2776.0368359375\" x2=\"2776.0368359375\" y1=\"245.0\" y2=\"295.0\" stroke=\"black\" stroke-width=\"3\" /><line x1=\"2881.3819921875\" x2=\"2881.3819921875\" y1=\"295.0\" y2=\"345.0\" stroke=\"black\" stroke-width=\"3\" /><line x1=\"2986.7271484375\" x2=\"2986.7271484375\" y1=\"345.0\" y2=\"395.0\" stroke=\"black\" stroke-width=\"3\" /><line x1=\"3311.944296875\" x2=\"3311.944296875\" y1=\"45.0\" y2=\"245.0\" stroke=\"black\" stroke-width=\"3\" /><line x1=\"3351.944296875\" x2=\"3351.944296875\" y1=\"95.0\" y2=\"295.0\" stroke=\"black\" stroke-width=\"3\" /><line x1=\"3391.944296875\" x2=\"3391.944296875\" y1=\"145.0\" y2=\"345.0\" stroke=\"black\" stroke-width=\"3\" /><line x1=\"3431.944296875\" x2=\"3431.944296875\" y1=\"195.0\" y2=\"395.0\" stroke=\"black\" stroke-width=\"3\" /><line x1=\"3291.944296875\" x2=\"3291.944296875\" y1=\"5.0\" y2=\"15.0\" stroke=\"black\" stroke-width=\"3\" /><line x1=\"3461.944296875\" x2=\"3461.944296875\" y1=\"5.0\" y2=\"15.0\" stroke=\"black\" stroke-width=\"3\" /><line x1=\"3291.944296875\" x2=\"3291.944296875\" y1=\"425.0\" y2=\"435.0\" stroke=\"black\" stroke-width=\"3\" /><line x1=\"3461.944296875\" x2=\"3461.944296875\" y1=\"425.0\" y2=\"435.0\" stroke=\"black\" stroke-width=\"3\" /><rect x=\"10.0\" y=\"25.0\" width=\"49.517734375\" height=\"40\" stroke=\"black\" fill=\"white\" stroke-width=\"0\" /><text x=\"34.7588671875\" y=\"45.0\" dominant-baseline=\"middle\" text-anchor=\"middle\" font-size=\"14px\" font-family=\"Arial\">(0, 0): </text><rect x=\"10.0\" y=\"75.0\" width=\"49.517734375\" height=\"40\" stroke=\"black\" fill=\"white\" stroke-width=\"0\" /><text x=\"34.7588671875\" y=\"95.0\" dominant-baseline=\"middle\" text-anchor=\"middle\" font-size=\"14px\" font-family=\"Arial\">(1, 0): </text><rect x=\"10.0\" y=\"125.0\" width=\"49.517734375\" height=\"40\" stroke=\"black\" fill=\"white\" stroke-width=\"0\" /><text x=\"34.7588671875\" y=\"145.0\" dominant-baseline=\"middle\" text-anchor=\"middle\" font-size=\"14px\" font-family=\"Arial\">(2, 0): </text><rect x=\"10.0\" y=\"175.0\" width=\"49.517734375\" height=\"40\" stroke=\"black\" fill=\"white\" stroke-width=\"0\" /><text x=\"34.7588671875\" y=\"195.0\" dominant-baseline=\"middle\" text-anchor=\"middle\" font-size=\"14px\" font-family=\"Arial\">(3, 0): </text><rect x=\"10.0\" y=\"225.0\" width=\"49.517734375\" height=\"40\" stroke=\"black\" fill=\"white\" stroke-width=\"0\" /><text x=\"34.7588671875\" y=\"245.0\" dominant-baseline=\"middle\" text-anchor=\"middle\" font-size=\"14px\" font-family=\"Arial\">(4, 0): </text><rect x=\"10.0\" y=\"275.0\" width=\"49.517734375\" height=\"40\" stroke=\"black\" fill=\"white\" stroke-width=\"0\" /><text x=\"34.7588671875\" y=\"295.0\" dominant-baseline=\"middle\" text-anchor=\"middle\" font-size=\"14px\" font-family=\"Arial\">(5, 0): </text><rect x=\"10.0\" y=\"325.0\" width=\"49.517734375\" height=\"40\" stroke=\"black\" fill=\"white\" stroke-width=\"0\" /><text x=\"34.7588671875\" y=\"345.0\" dominant-baseline=\"middle\" text-anchor=\"middle\" font-size=\"14px\" font-family=\"Arial\">(6, 0): </text><rect x=\"10.0\" y=\"375.0\" width=\"49.517734375\" height=\"40\" stroke=\"black\" fill=\"white\" stroke-width=\"0\" /><text x=\"34.7588671875\" y=\"395.0\" dominant-baseline=\"middle\" text-anchor=\"middle\" font-size=\"14px\" font-family=\"Arial\">(7, 0): </text><rect x=\"79.517734375\" y=\"25.0\" width=\"106.355546875\" height=\"40\" stroke=\"black\" fill=\"white\" stroke-width=\"1\" /><text x=\"132.6955078125\" y=\"45.0\" dominant-baseline=\"middle\" text-anchor=\"middle\" font-size=\"14px\" font-family=\"Arial\">Ry(theta_000)</text><rect x=\"79.517734375\" y=\"75.0\" width=\"106.355546875\" height=\"40\" stroke=\"black\" fill=\"white\" stroke-width=\"1\" /><text x=\"132.6955078125\" y=\"95.0\" dominant-baseline=\"middle\" text-anchor=\"middle\" font-size=\"14px\" font-family=\"Arial\">Ry(theta_010)</text><rect x=\"79.517734375\" y=\"125.0\" width=\"106.355546875\" height=\"40\" stroke=\"black\" fill=\"white\" stroke-width=\"1\" /><text x=\"132.6955078125\" y=\"145.0\" dominant-baseline=\"middle\" text-anchor=\"middle\" font-size=\"14px\" font-family=\"Arial\">Ry(theta_020)</text><rect x=\"79.517734375\" y=\"175.0\" width=\"106.355546875\" height=\"40\" stroke=\"black\" fill=\"white\" stroke-width=\"1\" /><text x=\"132.6955078125\" y=\"195.0\" dominant-baseline=\"middle\" text-anchor=\"middle\" font-size=\"14px\" font-family=\"Arial\">Ry(theta_030)</text><rect x=\"79.517734375\" y=\"225.0\" width=\"106.355546875\" height=\"40\" stroke=\"black\" fill=\"white\" stroke-width=\"1\" /><text x=\"132.6955078125\" y=\"245.0\" dominant-baseline=\"middle\" text-anchor=\"middle\" font-size=\"14px\" font-family=\"Arial\">Ry(theta_040)</text><rect x=\"79.517734375\" y=\"275.0\" width=\"106.355546875\" height=\"40\" stroke=\"black\" fill=\"white\" stroke-width=\"1\" /><text x=\"132.6955078125\" y=\"295.0\" dominant-baseline=\"middle\" text-anchor=\"middle\" font-size=\"14px\" font-family=\"Arial\">Ry(theta_050)</text><rect x=\"79.517734375\" y=\"325.0\" width=\"106.355546875\" height=\"40\" stroke=\"black\" fill=\"white\" stroke-width=\"1\" /><text x=\"132.6955078125\" y=\"345.0\" dominant-baseline=\"middle\" text-anchor=\"middle\" font-size=\"14px\" font-family=\"Arial\">Ry(theta_060)</text><rect x=\"79.517734375\" y=\"375.0\" width=\"106.355546875\" height=\"40\" stroke=\"black\" fill=\"white\" stroke-width=\"1\" /><text x=\"132.6955078125\" y=\"395.0\" dominant-baseline=\"middle\" text-anchor=\"middle\" font-size=\"14px\" font-family=\"Arial\">Ry(theta_070)</text><rect x=\"205.87328125000002\" y=\"25.0\" width=\"106.18902343750001\" height=\"40\" stroke=\"black\" fill=\"white\" stroke-width=\"1\" /><text x=\"258.96779296875\" y=\"45.0\" dominant-baseline=\"middle\" text-anchor=\"middle\" font-size=\"14px\" font-family=\"Arial\">Rz(theta_001)</text><rect x=\"205.87328125000002\" y=\"75.0\" width=\"106.18902343750001\" height=\"40\" stroke=\"black\" fill=\"white\" stroke-width=\"1\" /><text x=\"258.96779296875\" y=\"95.0\" dominant-baseline=\"middle\" text-anchor=\"middle\" font-size=\"14px\" font-family=\"Arial\">Rz(theta_011)</text><rect x=\"205.87328125000002\" y=\"125.0\" width=\"106.18902343750001\" height=\"40\" stroke=\"black\" fill=\"white\" stroke-width=\"1\" /><text x=\"258.96779296875\" y=\"145.0\" dominant-baseline=\"middle\" text-anchor=\"middle\" font-size=\"14px\" font-family=\"Arial\">Rz(theta_021)</text><rect x=\"205.87328125000002\" y=\"175.0\" width=\"106.18902343750001\" height=\"40\" stroke=\"black\" fill=\"white\" stroke-width=\"1\" /><text x=\"258.96779296875\" y=\"195.0\" dominant-baseline=\"middle\" text-anchor=\"middle\" font-size=\"14px\" font-family=\"Arial\">Rz(theta_031)</text><rect x=\"205.87328125000002\" y=\"225.0\" width=\"106.18902343750001\" height=\"40\" stroke=\"black\" fill=\"white\" stroke-width=\"1\" /><text x=\"258.96779296875\" y=\"245.0\" dominant-baseline=\"middle\" text-anchor=\"middle\" font-size=\"14px\" font-family=\"Arial\">Rz(theta_041)</text><rect x=\"205.87328125000002\" y=\"275.0\" width=\"106.18902343750001\" height=\"40\" stroke=\"black\" fill=\"white\" stroke-width=\"1\" /><text x=\"258.96779296875\" y=\"295.0\" dominant-baseline=\"middle\" text-anchor=\"middle\" font-size=\"14px\" font-family=\"Arial\">Rz(theta_051)</text><rect x=\"205.87328125000002\" y=\"325.0\" width=\"106.18902343750001\" height=\"40\" stroke=\"black\" fill=\"white\" stroke-width=\"1\" /><text x=\"258.96779296875\" y=\"345.0\" dominant-baseline=\"middle\" text-anchor=\"middle\" font-size=\"14px\" font-family=\"Arial\">Rz(theta_061)</text><rect x=\"205.87328125000002\" y=\"375.0\" width=\"106.18902343750001\" height=\"40\" stroke=\"black\" fill=\"white\" stroke-width=\"1\" /><text x=\"258.96779296875\" y=\"395.0\" dominant-baseline=\"middle\" text-anchor=\"middle\" font-size=\"14px\" font-family=\"Arial\">Rz(theta_071)</text><circle cx=\"374.7348828125\" cy=\"95.0\" r=\"10.0\" /><rect x=\"332.0623046875\" y=\"25.0\" width=\"85.34515625000002\" height=\"40\" stroke=\"black\" fill=\"white\" stroke-width=\"1\" /><text x=\"374.7348828125\" y=\"45.0\" dominant-baseline=\"middle\" text-anchor=\"middle\" font-size=\"14px\" font-family=\"Arial\">X^phi_000</text><circle cx=\"480.0800390625\" cy=\"145.0\" r=\"10.0\" /><rect x=\"437.4074609375\" y=\"75.0\" width=\"85.34515625000002\" height=\"40\" stroke=\"black\" fill=\"white\" stroke-width=\"1\" /><text x=\"480.0800390625\" y=\"95.0\" dominant-baseline=\"middle\" text-anchor=\"middle\" font-size=\"14px\" font-family=\"Arial\">X^phi_010</text><circle cx=\"585.4251953125\" cy=\"195.0\" r=\"10.0\" /><rect x=\"542.7526171875\" y=\"125.0\" width=\"85.34515625000002\" height=\"40\" stroke=\"black\" fill=\"white\" stroke-width=\"1\" /><text x=\"585.4251953125\" y=\"145.0\" dominant-baseline=\"middle\" text-anchor=\"middle\" font-size=\"14px\" font-family=\"Arial\">X^phi_020</text><circle cx=\"690.7703515625001\" cy=\"245.0\" r=\"10.0\" /><rect x=\"648.0977734375001\" y=\"175.0\" width=\"85.34515625000002\" height=\"40\" stroke=\"black\" fill=\"white\" stroke-width=\"1\" /><text x=\"690.7703515625001\" y=\"195.0\" dominant-baseline=\"middle\" text-anchor=\"middle\" font-size=\"14px\" font-family=\"Arial\">X^phi_030</text><circle cx=\"796.1155078125001\" cy=\"295.0\" r=\"10.0\" /><rect x=\"753.4429296875002\" y=\"225.0\" width=\"85.34515625000002\" height=\"40\" stroke=\"black\" fill=\"white\" stroke-width=\"1\" /><text x=\"796.1155078125001\" y=\"245.0\" dominant-baseline=\"middle\" text-anchor=\"middle\" font-size=\"14px\" font-family=\"Arial\">X^phi_040</text><circle cx=\"901.4606640625002\" cy=\"345.0\" r=\"10.0\" /><rect x=\"858.7880859375002\" y=\"275.0\" width=\"85.34515625000002\" height=\"40\" stroke=\"black\" fill=\"white\" stroke-width=\"1\" /><text x=\"901.4606640625002\" y=\"295.0\" dominant-baseline=\"middle\" text-anchor=\"middle\" font-size=\"14px\" font-family=\"Arial\">X^phi_050</text><circle cx=\"1006.8058203125003\" cy=\"395.0\" r=\"10.0\" /><rect x=\"964.1332421875003\" y=\"325.0\" width=\"85.34515625000002\" height=\"40\" stroke=\"black\" fill=\"white\" stroke-width=\"1\" /><text x=\"1006.8058203125003\" y=\"345.0\" dominant-baseline=\"middle\" text-anchor=\"middle\" font-size=\"14px\" font-family=\"Arial\">X^phi_060</text><rect x=\"1069.4783984375003\" y=\"25.0\" width=\"106.355546875\" height=\"40\" stroke=\"black\" fill=\"white\" stroke-width=\"1\" /><text x=\"1122.6561718750004\" y=\"45.0\" dominant-baseline=\"middle\" text-anchor=\"middle\" font-size=\"14px\" font-family=\"Arial\">Ry(theta_100)</text><rect x=\"1069.4783984375003\" y=\"75.0\" width=\"106.355546875\" height=\"40\" stroke=\"black\" fill=\"white\" stroke-width=\"1\" /><text x=\"1122.6561718750004\" y=\"95.0\" dominant-baseline=\"middle\" text-anchor=\"middle\" font-size=\"14px\" font-family=\"Arial\">Ry(theta_110)</text><rect x=\"1069.4783984375003\" y=\"125.0\" width=\"106.355546875\" height=\"40\" stroke=\"black\" fill=\"white\" stroke-width=\"1\" /><text x=\"1122.6561718750004\" y=\"145.0\" dominant-baseline=\"middle\" text-anchor=\"middle\" font-size=\"14px\" font-family=\"Arial\">Ry(theta_120)</text><rect x=\"1069.4783984375003\" y=\"175.0\" width=\"106.355546875\" height=\"40\" stroke=\"black\" fill=\"white\" stroke-width=\"1\" /><text x=\"1122.6561718750004\" y=\"195.0\" dominant-baseline=\"middle\" text-anchor=\"middle\" font-size=\"14px\" font-family=\"Arial\">Ry(theta_130)</text><rect x=\"1069.4783984375003\" y=\"225.0\" width=\"106.355546875\" height=\"40\" stroke=\"black\" fill=\"white\" stroke-width=\"1\" /><text x=\"1122.6561718750004\" y=\"245.0\" dominant-baseline=\"middle\" text-anchor=\"middle\" font-size=\"14px\" font-family=\"Arial\">Ry(theta_140)</text><rect x=\"1069.4783984375003\" y=\"275.0\" width=\"106.355546875\" height=\"40\" stroke=\"black\" fill=\"white\" stroke-width=\"1\" /><text x=\"1122.6561718750004\" y=\"295.0\" dominant-baseline=\"middle\" text-anchor=\"middle\" font-size=\"14px\" font-family=\"Arial\">Ry(theta_150)</text><rect x=\"1069.4783984375003\" y=\"325.0\" width=\"106.355546875\" height=\"40\" stroke=\"black\" fill=\"white\" stroke-width=\"1\" /><text x=\"1122.6561718750004\" y=\"345.0\" dominant-baseline=\"middle\" text-anchor=\"middle\" font-size=\"14px\" font-family=\"Arial\">Ry(theta_160)</text><rect x=\"1069.4783984375003\" y=\"375.0\" width=\"106.355546875\" height=\"40\" stroke=\"black\" fill=\"white\" stroke-width=\"1\" /><text x=\"1122.6561718750004\" y=\"395.0\" dominant-baseline=\"middle\" text-anchor=\"middle\" font-size=\"14px\" font-family=\"Arial\">Ry(theta_170)</text><rect x=\"1195.8339453125004\" y=\"25.0\" width=\"106.18902343750001\" height=\"40\" stroke=\"black\" fill=\"white\" stroke-width=\"1\" /><text x=\"1248.9284570312504\" y=\"45.0\" dominant-baseline=\"middle\" text-anchor=\"middle\" font-size=\"14px\" font-family=\"Arial\">Rz(theta_101)</text><rect x=\"1195.8339453125004\" y=\"75.0\" width=\"106.18902343750001\" height=\"40\" stroke=\"black\" fill=\"white\" stroke-width=\"1\" /><text x=\"1248.9284570312504\" y=\"95.0\" dominant-baseline=\"middle\" text-anchor=\"middle\" font-size=\"14px\" font-family=\"Arial\">Rz(theta_111)</text><rect x=\"1195.8339453125004\" y=\"125.0\" width=\"106.18902343750001\" height=\"40\" stroke=\"black\" fill=\"white\" stroke-width=\"1\" /><text x=\"1248.9284570312504\" y=\"145.0\" dominant-baseline=\"middle\" text-anchor=\"middle\" font-size=\"14px\" font-family=\"Arial\">Rz(theta_121)</text><rect x=\"1195.8339453125004\" y=\"175.0\" width=\"106.18902343750001\" height=\"40\" stroke=\"black\" fill=\"white\" stroke-width=\"1\" /><text x=\"1248.9284570312504\" y=\"195.0\" dominant-baseline=\"middle\" text-anchor=\"middle\" font-size=\"14px\" font-family=\"Arial\">Rz(theta_131)</text><rect x=\"1195.8339453125004\" y=\"225.0\" width=\"106.18902343750001\" height=\"40\" stroke=\"black\" fill=\"white\" stroke-width=\"1\" /><text x=\"1248.9284570312504\" y=\"245.0\" dominant-baseline=\"middle\" text-anchor=\"middle\" font-size=\"14px\" font-family=\"Arial\">Rz(theta_141)</text><rect x=\"1195.8339453125004\" y=\"275.0\" width=\"106.18902343750001\" height=\"40\" stroke=\"black\" fill=\"white\" stroke-width=\"1\" /><text x=\"1248.9284570312504\" y=\"295.0\" dominant-baseline=\"middle\" text-anchor=\"middle\" font-size=\"14px\" font-family=\"Arial\">Rz(theta_151)</text><rect x=\"1195.8339453125004\" y=\"325.0\" width=\"106.18902343750001\" height=\"40\" stroke=\"black\" fill=\"white\" stroke-width=\"1\" /><text x=\"1248.9284570312504\" y=\"345.0\" dominant-baseline=\"middle\" text-anchor=\"middle\" font-size=\"14px\" font-family=\"Arial\">Rz(theta_161)</text><rect x=\"1195.8339453125004\" y=\"375.0\" width=\"106.18902343750001\" height=\"40\" stroke=\"black\" fill=\"white\" stroke-width=\"1\" /><text x=\"1248.9284570312504\" y=\"395.0\" dominant-baseline=\"middle\" text-anchor=\"middle\" font-size=\"14px\" font-family=\"Arial\">Rz(theta_171)</text><circle cx=\"1364.6955468750004\" cy=\"95.0\" r=\"10.0\" /><rect x=\"1322.0229687500005\" y=\"25.0\" width=\"85.34515625000002\" height=\"40\" stroke=\"black\" fill=\"white\" stroke-width=\"1\" /><text x=\"1364.6955468750004\" y=\"45.0\" dominant-baseline=\"middle\" text-anchor=\"middle\" font-size=\"14px\" font-family=\"Arial\">X^phi_100</text><circle cx=\"1470.0407031250004\" cy=\"145.0\" r=\"10.0\" /><rect x=\"1427.3681250000004\" y=\"75.0\" width=\"85.34515625000002\" height=\"40\" stroke=\"black\" fill=\"white\" stroke-width=\"1\" /><text x=\"1470.0407031250004\" y=\"95.0\" dominant-baseline=\"middle\" text-anchor=\"middle\" font-size=\"14px\" font-family=\"Arial\">X^phi_110</text><circle cx=\"1575.3858593750003\" cy=\"195.0\" r=\"10.0\" /><rect x=\"1532.7132812500004\" y=\"125.0\" width=\"85.34515625000002\" height=\"40\" stroke=\"black\" fill=\"white\" stroke-width=\"1\" /><text x=\"1575.3858593750003\" y=\"145.0\" dominant-baseline=\"middle\" text-anchor=\"middle\" font-size=\"14px\" font-family=\"Arial\">X^phi_120</text><circle cx=\"1680.7310156250003\" cy=\"245.0\" r=\"10.0\" /><rect x=\"1638.0584375000003\" y=\"175.0\" width=\"85.34515625000002\" height=\"40\" stroke=\"black\" fill=\"white\" stroke-width=\"1\" /><text x=\"1680.7310156250003\" y=\"195.0\" dominant-baseline=\"middle\" text-anchor=\"middle\" font-size=\"14px\" font-family=\"Arial\">X^phi_130</text><circle cx=\"1786.0761718750002\" cy=\"295.0\" r=\"10.0\" /><rect x=\"1743.4035937500003\" y=\"225.0\" width=\"85.34515625000002\" height=\"40\" stroke=\"black\" fill=\"white\" stroke-width=\"1\" /><text x=\"1786.0761718750002\" y=\"245.0\" dominant-baseline=\"middle\" text-anchor=\"middle\" font-size=\"14px\" font-family=\"Arial\">X^phi_140</text><circle cx=\"1891.4213281250002\" cy=\"345.0\" r=\"10.0\" /><rect x=\"1848.7487500000002\" y=\"275.0\" width=\"85.34515625000002\" height=\"40\" stroke=\"black\" fill=\"white\" stroke-width=\"1\" /><text x=\"1891.4213281250002\" y=\"295.0\" dominant-baseline=\"middle\" text-anchor=\"middle\" font-size=\"14px\" font-family=\"Arial\">X^phi_150</text><circle cx=\"1996.7664843750001\" cy=\"395.0\" r=\"10.0\" /><rect x=\"1954.0939062500001\" y=\"325.0\" width=\"85.34515625000002\" height=\"40\" stroke=\"black\" fill=\"white\" stroke-width=\"1\" /><text x=\"1996.7664843750001\" y=\"345.0\" dominant-baseline=\"middle\" text-anchor=\"middle\" font-size=\"14px\" font-family=\"Arial\">X^phi_160</text><rect x=\"2059.4390625\" y=\"25.0\" width=\"106.355546875\" height=\"40\" stroke=\"black\" fill=\"white\" stroke-width=\"1\" /><text x=\"2112.6168359375\" y=\"45.0\" dominant-baseline=\"middle\" text-anchor=\"middle\" font-size=\"14px\" font-family=\"Arial\">Ry(theta_200)</text><rect x=\"2059.4390625\" y=\"75.0\" width=\"106.355546875\" height=\"40\" stroke=\"black\" fill=\"white\" stroke-width=\"1\" /><text x=\"2112.6168359375\" y=\"95.0\" dominant-baseline=\"middle\" text-anchor=\"middle\" font-size=\"14px\" font-family=\"Arial\">Ry(theta_210)</text><rect x=\"2059.4390625\" y=\"125.0\" width=\"106.355546875\" height=\"40\" stroke=\"black\" fill=\"white\" stroke-width=\"1\" /><text x=\"2112.6168359375\" y=\"145.0\" dominant-baseline=\"middle\" text-anchor=\"middle\" font-size=\"14px\" font-family=\"Arial\">Ry(theta_220)</text><rect x=\"2059.4390625\" y=\"175.0\" width=\"106.355546875\" height=\"40\" stroke=\"black\" fill=\"white\" stroke-width=\"1\" /><text x=\"2112.6168359375\" y=\"195.0\" dominant-baseline=\"middle\" text-anchor=\"middle\" font-size=\"14px\" font-family=\"Arial\">Ry(theta_230)</text><rect x=\"2059.4390625\" y=\"225.0\" width=\"106.355546875\" height=\"40\" stroke=\"black\" fill=\"white\" stroke-width=\"1\" /><text x=\"2112.6168359375\" y=\"245.0\" dominant-baseline=\"middle\" text-anchor=\"middle\" font-size=\"14px\" font-family=\"Arial\">Ry(theta_240)</text><rect x=\"2059.4390625\" y=\"275.0\" width=\"106.355546875\" height=\"40\" stroke=\"black\" fill=\"white\" stroke-width=\"1\" /><text x=\"2112.6168359375\" y=\"295.0\" dominant-baseline=\"middle\" text-anchor=\"middle\" font-size=\"14px\" font-family=\"Arial\">Ry(theta_250)</text><rect x=\"2059.4390625\" y=\"325.0\" width=\"106.355546875\" height=\"40\" stroke=\"black\" fill=\"white\" stroke-width=\"1\" /><text x=\"2112.6168359375\" y=\"345.0\" dominant-baseline=\"middle\" text-anchor=\"middle\" font-size=\"14px\" font-family=\"Arial\">Ry(theta_260)</text><rect x=\"2059.4390625\" y=\"375.0\" width=\"106.355546875\" height=\"40\" stroke=\"black\" fill=\"white\" stroke-width=\"1\" /><text x=\"2112.6168359375\" y=\"395.0\" dominant-baseline=\"middle\" text-anchor=\"middle\" font-size=\"14px\" font-family=\"Arial\">Ry(theta_270)</text><rect x=\"2185.794609375\" y=\"25.0\" width=\"106.18902343750001\" height=\"40\" stroke=\"black\" fill=\"white\" stroke-width=\"1\" /><text x=\"2238.88912109375\" y=\"45.0\" dominant-baseline=\"middle\" text-anchor=\"middle\" font-size=\"14px\" font-family=\"Arial\">Rz(theta_201)</text><rect x=\"2185.794609375\" y=\"75.0\" width=\"106.18902343750001\" height=\"40\" stroke=\"black\" fill=\"white\" stroke-width=\"1\" /><text x=\"2238.88912109375\" y=\"95.0\" dominant-baseline=\"middle\" text-anchor=\"middle\" font-size=\"14px\" font-family=\"Arial\">Rz(theta_211)</text><rect x=\"2185.794609375\" y=\"125.0\" width=\"106.18902343750001\" height=\"40\" stroke=\"black\" fill=\"white\" stroke-width=\"1\" /><text x=\"2238.88912109375\" y=\"145.0\" dominant-baseline=\"middle\" text-anchor=\"middle\" font-size=\"14px\" font-family=\"Arial\">Rz(theta_221)</text><rect x=\"2185.794609375\" y=\"175.0\" width=\"106.18902343750001\" height=\"40\" stroke=\"black\" fill=\"white\" stroke-width=\"1\" /><text x=\"2238.88912109375\" y=\"195.0\" dominant-baseline=\"middle\" text-anchor=\"middle\" font-size=\"14px\" font-family=\"Arial\">Rz(theta_231)</text><rect x=\"2185.794609375\" y=\"225.0\" width=\"106.18902343750001\" height=\"40\" stroke=\"black\" fill=\"white\" stroke-width=\"1\" /><text x=\"2238.88912109375\" y=\"245.0\" dominant-baseline=\"middle\" text-anchor=\"middle\" font-size=\"14px\" font-family=\"Arial\">Rz(theta_241)</text><rect x=\"2185.794609375\" y=\"275.0\" width=\"106.18902343750001\" height=\"40\" stroke=\"black\" fill=\"white\" stroke-width=\"1\" /><text x=\"2238.88912109375\" y=\"295.0\" dominant-baseline=\"middle\" text-anchor=\"middle\" font-size=\"14px\" font-family=\"Arial\">Rz(theta_251)</text><rect x=\"2185.794609375\" y=\"325.0\" width=\"106.18902343750001\" height=\"40\" stroke=\"black\" fill=\"white\" stroke-width=\"1\" /><text x=\"2238.88912109375\" y=\"345.0\" dominant-baseline=\"middle\" text-anchor=\"middle\" font-size=\"14px\" font-family=\"Arial\">Rz(theta_261)</text><rect x=\"2185.794609375\" y=\"375.0\" width=\"106.18902343750001\" height=\"40\" stroke=\"black\" fill=\"white\" stroke-width=\"1\" /><text x=\"2238.88912109375\" y=\"395.0\" dominant-baseline=\"middle\" text-anchor=\"middle\" font-size=\"14px\" font-family=\"Arial\">Rz(theta_271)</text><circle cx=\"2354.6562109375004\" cy=\"95.0\" r=\"10.0\" /><rect x=\"2311.9836328125\" y=\"25.0\" width=\"85.34515625000002\" height=\"40\" stroke=\"black\" fill=\"white\" stroke-width=\"1\" /><text x=\"2354.6562109375004\" y=\"45.0\" dominant-baseline=\"middle\" text-anchor=\"middle\" font-size=\"14px\" font-family=\"Arial\">X^phi_200</text><circle cx=\"2460.0013671875004\" cy=\"145.0\" r=\"10.0\" /><rect x=\"2417.3287890625\" y=\"75.0\" width=\"85.34515625000002\" height=\"40\" stroke=\"black\" fill=\"white\" stroke-width=\"1\" /><text x=\"2460.0013671875004\" y=\"95.0\" dominant-baseline=\"middle\" text-anchor=\"middle\" font-size=\"14px\" font-family=\"Arial\">X^phi_210</text><circle cx=\"2565.3465234375003\" cy=\"195.0\" r=\"10.0\" /><rect x=\"2522.6739453125\" y=\"125.0\" width=\"85.34515625000002\" height=\"40\" stroke=\"black\" fill=\"white\" stroke-width=\"1\" /><text x=\"2565.3465234375003\" y=\"145.0\" dominant-baseline=\"middle\" text-anchor=\"middle\" font-size=\"14px\" font-family=\"Arial\">X^phi_220</text><circle cx=\"2670.6916796875003\" cy=\"245.0\" r=\"10.0\" /><rect x=\"2628.0191015625\" y=\"175.0\" width=\"85.34515625000002\" height=\"40\" stroke=\"black\" fill=\"white\" stroke-width=\"1\" /><text x=\"2670.6916796875003\" y=\"195.0\" dominant-baseline=\"middle\" text-anchor=\"middle\" font-size=\"14px\" font-family=\"Arial\">X^phi_230</text><circle cx=\"2776.0368359375\" cy=\"295.0\" r=\"10.0\" /><rect x=\"2733.3642578125\" y=\"225.0\" width=\"85.34515625000002\" height=\"40\" stroke=\"black\" fill=\"white\" stroke-width=\"1\" /><text x=\"2776.0368359375\" y=\"245.0\" dominant-baseline=\"middle\" text-anchor=\"middle\" font-size=\"14px\" font-family=\"Arial\">X^phi_240</text><circle cx=\"2881.3819921875\" cy=\"345.0\" r=\"10.0\" /><rect x=\"2838.7094140625\" y=\"275.0\" width=\"85.34515625000002\" height=\"40\" stroke=\"black\" fill=\"white\" stroke-width=\"1\" /><text x=\"2881.3819921875\" y=\"295.0\" dominant-baseline=\"middle\" text-anchor=\"middle\" font-size=\"14px\" font-family=\"Arial\">X^phi_250</text><circle cx=\"2986.7271484375\" cy=\"395.0\" r=\"10.0\" /><rect x=\"2944.0545703125\" y=\"325.0\" width=\"85.34515625000002\" height=\"40\" stroke=\"black\" fill=\"white\" stroke-width=\"1\" /><text x=\"2986.7271484375\" y=\"345.0\" dominant-baseline=\"middle\" text-anchor=\"middle\" font-size=\"14px\" font-family=\"Arial\">X^phi_260</text><rect x=\"3049.3997265625\" y=\"25.0\" width=\"106.355546875\" height=\"40\" stroke=\"black\" fill=\"white\" stroke-width=\"1\" /><text x=\"3102.5775\" y=\"45.0\" dominant-baseline=\"middle\" text-anchor=\"middle\" font-size=\"14px\" font-family=\"Arial\">Ry(theta_300)</text><rect x=\"3049.3997265625\" y=\"75.0\" width=\"106.355546875\" height=\"40\" stroke=\"black\" fill=\"white\" stroke-width=\"1\" /><text x=\"3102.5775\" y=\"95.0\" dominant-baseline=\"middle\" text-anchor=\"middle\" font-size=\"14px\" font-family=\"Arial\">Ry(theta_310)</text><rect x=\"3049.3997265625\" y=\"125.0\" width=\"106.355546875\" height=\"40\" stroke=\"black\" fill=\"white\" stroke-width=\"1\" /><text x=\"3102.5775\" y=\"145.0\" dominant-baseline=\"middle\" text-anchor=\"middle\" font-size=\"14px\" font-family=\"Arial\">Ry(theta_320)</text><rect x=\"3049.3997265625\" y=\"175.0\" width=\"106.355546875\" height=\"40\" stroke=\"black\" fill=\"white\" stroke-width=\"1\" /><text x=\"3102.5775\" y=\"195.0\" dominant-baseline=\"middle\" text-anchor=\"middle\" font-size=\"14px\" font-family=\"Arial\">Ry(theta_330)</text><rect x=\"3049.3997265625\" y=\"225.0\" width=\"106.355546875\" height=\"40\" stroke=\"black\" fill=\"white\" stroke-width=\"1\" /><text x=\"3102.5775\" y=\"245.0\" dominant-baseline=\"middle\" text-anchor=\"middle\" font-size=\"14px\" font-family=\"Arial\">Ry(theta_340)</text><rect x=\"3049.3997265625\" y=\"275.0\" width=\"106.355546875\" height=\"40\" stroke=\"black\" fill=\"white\" stroke-width=\"1\" /><text x=\"3102.5775\" y=\"295.0\" dominant-baseline=\"middle\" text-anchor=\"middle\" font-size=\"14px\" font-family=\"Arial\">Ry(theta_350)</text><rect x=\"3049.3997265625\" y=\"325.0\" width=\"106.355546875\" height=\"40\" stroke=\"black\" fill=\"white\" stroke-width=\"1\" /><text x=\"3102.5775\" y=\"345.0\" dominant-baseline=\"middle\" text-anchor=\"middle\" font-size=\"14px\" font-family=\"Arial\">Ry(theta_360)</text><rect x=\"3049.3997265625\" y=\"375.0\" width=\"106.355546875\" height=\"40\" stroke=\"black\" fill=\"white\" stroke-width=\"1\" /><text x=\"3102.5775\" y=\"395.0\" dominant-baseline=\"middle\" text-anchor=\"middle\" font-size=\"14px\" font-family=\"Arial\">Ry(theta_370)</text><rect x=\"3175.7552734375\" y=\"25.0\" width=\"106.18902343750001\" height=\"40\" stroke=\"black\" fill=\"white\" stroke-width=\"1\" /><text x=\"3228.8497851562497\" y=\"45.0\" dominant-baseline=\"middle\" text-anchor=\"middle\" font-size=\"14px\" font-family=\"Arial\">Rz(theta_301)</text><rect x=\"3175.7552734375\" y=\"75.0\" width=\"106.18902343750001\" height=\"40\" stroke=\"black\" fill=\"white\" stroke-width=\"1\" /><text x=\"3228.8497851562497\" y=\"95.0\" dominant-baseline=\"middle\" text-anchor=\"middle\" font-size=\"14px\" font-family=\"Arial\">Rz(theta_311)</text><rect x=\"3175.7552734375\" y=\"125.0\" width=\"106.18902343750001\" height=\"40\" stroke=\"black\" fill=\"white\" stroke-width=\"1\" /><text x=\"3228.8497851562497\" y=\"145.0\" dominant-baseline=\"middle\" text-anchor=\"middle\" font-size=\"14px\" font-family=\"Arial\">Rz(theta_321)</text><rect x=\"3175.7552734375\" y=\"175.0\" width=\"106.18902343750001\" height=\"40\" stroke=\"black\" fill=\"white\" stroke-width=\"1\" /><text x=\"3228.8497851562497\" y=\"195.0\" dominant-baseline=\"middle\" text-anchor=\"middle\" font-size=\"14px\" font-family=\"Arial\">Rz(theta_331)</text><rect x=\"3175.7552734375\" y=\"225.0\" width=\"106.18902343750001\" height=\"40\" stroke=\"black\" fill=\"white\" stroke-width=\"1\" /><text x=\"3228.8497851562497\" y=\"245.0\" dominant-baseline=\"middle\" text-anchor=\"middle\" font-size=\"14px\" font-family=\"Arial\">Rz(theta_341)</text><rect x=\"3175.7552734375\" y=\"275.0\" width=\"106.18902343750001\" height=\"40\" stroke=\"black\" fill=\"white\" stroke-width=\"1\" /><text x=\"3228.8497851562497\" y=\"295.0\" dominant-baseline=\"middle\" text-anchor=\"middle\" font-size=\"14px\" font-family=\"Arial\">Rz(theta_351)</text><rect x=\"3175.7552734375\" y=\"325.0\" width=\"106.18902343750001\" height=\"40\" stroke=\"black\" fill=\"white\" stroke-width=\"1\" /><text x=\"3228.8497851562497\" y=\"345.0\" dominant-baseline=\"middle\" text-anchor=\"middle\" font-size=\"14px\" font-family=\"Arial\">Rz(theta_361)</text><rect x=\"3175.7552734375\" y=\"375.0\" width=\"106.18902343750001\" height=\"40\" stroke=\"black\" fill=\"white\" stroke-width=\"1\" /><text x=\"3228.8497851562497\" y=\"395.0\" dominant-baseline=\"middle\" text-anchor=\"middle\" font-size=\"14px\" font-family=\"Arial\">Rz(theta_371)</text><circle cx=\"3311.944296875\" cy=\"45.0\" r=\"10.0\" /><rect x=\"3291.944296875\" y=\"225.0\" width=\"40\" height=\"40\" stroke=\"black\" fill=\"white\" stroke-width=\"1\" /><text x=\"3311.944296875\" y=\"245.0\" dominant-baseline=\"middle\" text-anchor=\"middle\" font-size=\"18px\" font-family=\"Arial\">X</text><circle cx=\"3351.944296875\" cy=\"95.0\" r=\"10.0\" /><rect x=\"3331.944296875\" y=\"275.0\" width=\"40\" height=\"40\" stroke=\"black\" fill=\"white\" stroke-width=\"1\" /><text x=\"3351.944296875\" y=\"295.0\" dominant-baseline=\"middle\" text-anchor=\"middle\" font-size=\"18px\" font-family=\"Arial\">X</text><circle cx=\"3391.944296875\" cy=\"145.0\" r=\"10.0\" /><rect x=\"3371.944296875\" y=\"325.0\" width=\"40\" height=\"40\" stroke=\"black\" fill=\"white\" stroke-width=\"1\" /><text x=\"3391.944296875\" y=\"345.0\" dominant-baseline=\"middle\" text-anchor=\"middle\" font-size=\"18px\" font-family=\"Arial\">X</text><circle cx=\"3431.944296875\" cy=\"195.0\" r=\"10.0\" /><rect x=\"3411.944296875\" y=\"375.0\" width=\"40\" height=\"40\" stroke=\"black\" fill=\"white\" stroke-width=\"1\" /><text x=\"3431.944296875\" y=\"395.0\" dominant-baseline=\"middle\" text-anchor=\"middle\" font-size=\"18px\" font-family=\"Arial\">X</text></svg>"
      ],
      "text/plain": [
       "<cirq.contrib.svg.svg.SVGCircuit at 0x7253c86a23d0>"
      ]
     },
     "execution_count": 5,
     "metadata": {},
     "output_type": "execute_result"
    }
   ],
   "source": [
    "n_layers = 3\n",
    "circuit, symbol_names = build_ansatz(qubits, n_layers=n_layers)\n",
    "initial_symbol_values = initialize_ansatz_symbols(\n",
    "    len(qubits), \n",
    "    n_layers=n_layers\n",
    ")\n",
    "from cirq.contrib.svg import SVGCircuit\n",
    "SVGCircuit(circuit)"
   ]
  },
  {
   "cell_type": "markdown",
   "id": "967eee2d",
   "metadata": {},
   "source": [
    "## Setup VarQBM model\n",
    "\n",
    "Setup a VarQBM model using defaults and providing the circuit, the Hamiltonian, circuit symbols and their initial values, and the number of time steps to which the VarQITE evolution is split as part of VarQBM (higher value generally is more accurate but takes more time)"
   ]
  },
  {
   "cell_type": "code",
   "execution_count": 6,
   "id": "4d470269",
   "metadata": {
    "tags": []
   },
   "outputs": [],
   "source": [
    "qbm = QBM(\n",
    "    circuit,\n",
    "    symbol_names,\n",
    "    initial_symbol_values,\n",
    "    hamiltonian,\n",
    "    n_timesteps=40,\n",
    "    verbose_qite=3,\n",
    ")"
   ]
  },
  {
   "cell_type": "markdown",
   "id": "e860d8e9",
   "metadata": {},
   "source": [
    "## Run VarQBM training\n",
    "Running VarQBM training gives us the Hamiltonian with trained coefficients, the final trained state in density matrix format, trained circuit symbol values and metrics from the training process. (Likely, this requires redesign for actual hardware, i.e. for the density matrix one could directly consider returning samples if possible.)"
   ]
  },
  {
   "cell_type": "code",
   "execution_count": 7,
   "id": "e800ab44",
   "metadata": {
    "tags": []
   },
   "outputs": [],
   "source": [
    "#trained_hamiltonian, trained_state, trained_symbol_values, metrics = qbm.train(p_data, epochs=40)"
   ]
  },
  {
   "cell_type": "markdown",
   "id": "81f4f8f3",
   "metadata": {},
   "source": [
    "(To avoid running several hours, here's the result of one \"succesful\" run)"
   ]
  },
  {
   "cell_type": "code",
   "execution_count": 8,
   "id": "9856ad31",
   "metadata": {
    "tags": []
   },
   "outputs": [],
   "source": [
    "\n",
    "trained_hamiltonian_coefficients = [\n",
    "    -0.13697385787963867,\n",
    "    -0.15982627868652344,\n",
    "    1.1702172756195068,\n",
    "    2.6191375255584717,\n",
    "    -0.29886317253112793,\n",
    "    -0.29584717750549316,\n",
    "    -0.07853007316589355,\n",
    "    -0.2576768398284912,\n",
    "    -0.2590906620025635,\n",
    "    -0.014436483383178711\n",
    "]\n",
    "trained_hamiltonian = Hamiltonian(ising_model, trained_hamiltonian_coefficients)\n",
    "# One can prepare the thermal state of the trained Hamiltonian again by running VarQITE\n",
    "#trained_symbol_values, state = qbm.run_qite(trained_hamiltonian, skip_metrics=True)\n",
    "trained_symbol_values = [\n",
    "    -0.014642548747360706,\n",
    "    -3.441415117322322e-07,\n",
    "    -0.01728099398314953,\n",
    "    -8.662656000524294e-06,\n",
    "    -0.004501198884099722,\n",
    "    1.1648027793853544e-05,\n",
    "    0.2876802682876587,\n",
    "    -0.00012912784586660564,\n",
    "    -1.3544297627898771e-11,\n",
    "    -6.415218933852884e-08,\n",
    "    -1.2945443328415962e-11,\n",
    "    -3.1357657803710026e-08,\n",
    "    -1.0079138912377772e-11,\n",
    "    -7.583848571357521e-08,\n",
    "    -1.781818442792016e-11,\n",
    "    -2.060415482674216e-07,\n",
    "    -0.014686104841530323,\n",
    "    -9.479756045038812e-06,\n",
    "    -0.016323236748576164,\n",
    "    1.5828969480935484e-05,\n",
    "    0.041991300880908966,\n",
    "    -0.00016045317170210183,\n",
    "    0.07910387963056564,\n",
    "    -0.0002838200598489493,\n",
    "    -3.075627599824493e-11,\n",
    "    -3.1359231655869735e-08,\n",
    "    -1.2116604594658575e-11,\n",
    "    -7.584274896998977e-08,\n",
    "    -1.7822255823918276e-11,\n",
    "    -2.5283253535235417e-07,\n",
    "    -1.7819704045685114e-11,\n",
    "    -2.0604063877271983e-07,\n",
    "    -0.016164422035217285,\n",
    "    2.3528562451247126e-05,\n",
    "    0.009831184521317482,\n",
    "    -0.0001395646104356274,\n",
    "    -1.051080584526062,\n",
    "    -0.00016350357327610254,\n",
    "    0.015614356845617294,\n",
    "    -0.00030664922087453306,\n",
    "    2.5852771312617762e-11,\n",
    "    -1.4341814846829948e-07,\n",
    "    1.8851156746713116e-11,\n",
    "    -1.1220399187550356e-07,\n",
    "    1.2182884909228697e-11,\n",
    "    1.3185865554987686e-07,\n",
    "    1.2183080932981483e-11,\n",
    "    1.3185872660415043e-07,\n",
    "    1.578497290611267,\n",
    "    -8.13862470749882e-07,\n",
    "    1.565839171409607,\n",
    "    -7.825872307876125e-05,\n",
    "    1.509065866470337,\n",
    "    -0.00017533988284412771,\n",
    "    1.5611470937728882,\n",
    "    -4.3912779801758006e-05,\n",
    "    -5.514004183804211e-12,\n",
    "    3.741260456990858e-08,\n",
    "    3.3556379896992894e-11,\n",
    "    1.1650548259467541e-07,\n",
    "    4.171089515447868e-11,\n",
    "    -5.5527948461531196e-08,\n",
    "    4.2645778401684264e-12,\n",
    "    -5.552934823072064e-08,\n",
    "    0.999977171421051,\n",
    "    0.9999960064888,\n",
    "    0.999805212020874,\n",
    "    1.0,\n",
    "    1.0,\n",
    "    1.0,\n",
    "    1.0,\n",
    "    0.9999657273292542,\n",
    "    0.9997722506523132,\n",
    "    0.999398410320282,\n",
    "    1.0,\n",
    "    1.0,\n",
    "    1.0,\n",
    "    1.0,\n",
    "    0.9995574355125427,\n",
    "    0.9996995329856873,\n",
    "    0.999622642993927,\n",
    "    1.0,\n",
    "    1.0,\n",
    "    1.0,\n",
    "    1.0\n",
    "]\n"
   ]
  },
  {
   "cell_type": "markdown",
   "id": "681b7556",
   "metadata": {},
   "source": [
    "## Pulling samples\n",
    "\n",
    "Cirq and Tfq provides many different ways to get samples given the circuit, symbols and their values. One examples shown below which is easy but relies potentially non-optimized features."
   ]
  },
  {
   "cell_type": "markdown",
   "id": "b417ca13",
   "metadata": {},
   "source": [
    "### Tfq state layer to get probability distribution\n",
    "Use ``circuit_to_state`` utility function which internally uses Tfq's State layer to get density matrix from which the probability distribution can be easilly acquired. Another way (potentially more \"realistic\") is to use Cirq's simulator to get samples from the problem qubits (i.e. tracing out the ancillary qubits). "
   ]
  },
  {
   "cell_type": "code",
   "execution_count": 9,
   "id": "0c60d0b8-5067-4730-8036-e4c90bfe9b26",
   "metadata": {
    "tags": []
   },
   "outputs": [
    {
     "name": "stderr",
     "output_type": "stream",
     "text": [
      "QITE:   0%|                                              | 0/40 [00:00<?, ?it/s]"
     ]
    },
    {
     "name": "stdout",
     "output_type": "stream",
     "text": [
      "QITE timestep   0: [energy = 0.000]\n"
     ]
    },
    {
     "name": "stderr",
     "output_type": "stream",
     "text": [
      "QITE:   2%|▉                                     | 1/40 [00:12<07:56, 12.21s/it]"
     ]
    },
    {
     "name": "stdout",
     "output_type": "stream",
     "text": [
      "QITE timestep   1: [energy = 0.000]\n"
     ]
    },
    {
     "name": "stderr",
     "output_type": "stream",
     "text": [
      "QITE:   5%|█▉                                    | 2/40 [00:24<07:53, 12.47s/it]"
     ]
    },
    {
     "name": "stdout",
     "output_type": "stream",
     "text": [
      "QITE timestep   2: [energy = -0.088]\n"
     ]
    },
    {
     "name": "stderr",
     "output_type": "stream",
     "text": [
      "QITE:   8%|██▊                                   | 3/40 [00:37<07:38, 12.40s/it]"
     ]
    },
    {
     "name": "stdout",
     "output_type": "stream",
     "text": [
      "QITE timestep   3: [energy = -0.175]\n"
     ]
    },
    {
     "name": "stderr",
     "output_type": "stream",
     "text": [
      "QITE:  10%|███▊                                  | 4/40 [00:49<07:18, 12.19s/it]"
     ]
    },
    {
     "name": "stdout",
     "output_type": "stream",
     "text": [
      "QITE timestep   4: [energy = -0.262]\n"
     ]
    },
    {
     "name": "stderr",
     "output_type": "stream",
     "text": [
      "QITE:  12%|████▊                                 | 5/40 [01:01<07:06, 12.18s/it]"
     ]
    },
    {
     "name": "stdout",
     "output_type": "stream",
     "text": [
      "QITE timestep   5: [energy = -0.348]\n"
     ]
    },
    {
     "name": "stderr",
     "output_type": "stream",
     "text": [
      "QITE:  15%|█████▋                                | 6/40 [01:14<07:11, 12.70s/it]"
     ]
    },
    {
     "name": "stdout",
     "output_type": "stream",
     "text": [
      "QITE timestep   6: [energy = -0.433]\n"
     ]
    },
    {
     "name": "stderr",
     "output_type": "stream",
     "text": [
      "QITE:  18%|██████▋                               | 7/40 [01:28<07:10, 13.04s/it]"
     ]
    },
    {
     "name": "stdout",
     "output_type": "stream",
     "text": [
      "QITE timestep   7: [energy = -0.518]\n"
     ]
    },
    {
     "name": "stderr",
     "output_type": "stream",
     "text": [
      "QITE:  20%|███████▌                              | 8/40 [01:43<07:11, 13.47s/it]"
     ]
    },
    {
     "name": "stdout",
     "output_type": "stream",
     "text": [
      "QITE timestep   8: [energy = -0.601]\n"
     ]
    },
    {
     "name": "stderr",
     "output_type": "stream",
     "text": [
      "QITE:  22%|████████▌                             | 9/40 [01:58<07:17, 14.13s/it]"
     ]
    },
    {
     "name": "stdout",
     "output_type": "stream",
     "text": [
      "QITE timestep   9: [energy = -0.683]\n"
     ]
    },
    {
     "name": "stderr",
     "output_type": "stream",
     "text": [
      "QITE:  25%|█████████▎                           | 10/40 [02:12<07:05, 14.19s/it]"
     ]
    },
    {
     "name": "stdout",
     "output_type": "stream",
     "text": [
      "QITE timestep  10: [energy = -0.764]\n"
     ]
    },
    {
     "name": "stderr",
     "output_type": "stream",
     "text": [
      "QITE:  28%|██████████▏                          | 11/40 [02:26<06:49, 14.12s/it]"
     ]
    },
    {
     "name": "stdout",
     "output_type": "stream",
     "text": [
      "QITE timestep  11: [energy = -0.844]\n"
     ]
    },
    {
     "name": "stderr",
     "output_type": "stream",
     "text": [
      "QITE:  30%|███████████                          | 12/40 [02:40<06:30, 13.94s/it]"
     ]
    },
    {
     "name": "stdout",
     "output_type": "stream",
     "text": [
      "QITE timestep  12: [energy = -0.923]\n"
     ]
    },
    {
     "name": "stderr",
     "output_type": "stream",
     "text": [
      "QITE:  32%|████████████                         | 13/40 [02:54<06:13, 13.85s/it]"
     ]
    },
    {
     "name": "stdout",
     "output_type": "stream",
     "text": [
      "QITE timestep  13: [energy = -1.001]\n"
     ]
    },
    {
     "name": "stderr",
     "output_type": "stream",
     "text": [
      "QITE:  35%|████████████▉                        | 14/40 [03:07<05:58, 13.77s/it]"
     ]
    },
    {
     "name": "stdout",
     "output_type": "stream",
     "text": [
      "QITE timestep  14: [energy = -1.077]\n"
     ]
    },
    {
     "name": "stderr",
     "output_type": "stream",
     "text": [
      "QITE:  38%|█████████████▉                       | 15/40 [03:21<05:42, 13.70s/it]"
     ]
    },
    {
     "name": "stdout",
     "output_type": "stream",
     "text": [
      "QITE timestep  15: [energy = -1.152]\n"
     ]
    },
    {
     "name": "stderr",
     "output_type": "stream",
     "text": [
      "QITE:  40%|██████████████▊                      | 16/40 [03:34<05:28, 13.68s/it]"
     ]
    },
    {
     "name": "stdout",
     "output_type": "stream",
     "text": [
      "QITE timestep  16: [energy = -1.225]\n"
     ]
    },
    {
     "name": "stderr",
     "output_type": "stream",
     "text": [
      "QITE:  42%|███████████████▋                     | 17/40 [03:48<05:12, 13.60s/it]"
     ]
    },
    {
     "name": "stdout",
     "output_type": "stream",
     "text": [
      "QITE timestep  17: [energy = -1.297]\n"
     ]
    },
    {
     "name": "stderr",
     "output_type": "stream",
     "text": [
      "QITE:  45%|████████████████▋                    | 18/40 [04:01<04:58, 13.56s/it]"
     ]
    },
    {
     "name": "stdout",
     "output_type": "stream",
     "text": [
      "QITE timestep  18: [energy = -1.368]\n"
     ]
    },
    {
     "name": "stderr",
     "output_type": "stream",
     "text": [
      "QITE:  48%|█████████████████▌                   | 19/40 [04:15<04:44, 13.53s/it]"
     ]
    },
    {
     "name": "stdout",
     "output_type": "stream",
     "text": [
      "QITE timestep  19: [energy = -1.437]\n"
     ]
    },
    {
     "name": "stderr",
     "output_type": "stream",
     "text": [
      "QITE:  50%|██████████████████▌                  | 20/40 [04:28<04:30, 13.54s/it]"
     ]
    },
    {
     "name": "stdout",
     "output_type": "stream",
     "text": [
      "QITE timestep  20: [energy = -1.504]\n"
     ]
    },
    {
     "name": "stderr",
     "output_type": "stream",
     "text": [
      "QITE:  52%|███████████████████▍                 | 21/40 [04:42<04:16, 13.52s/it]"
     ]
    },
    {
     "name": "stdout",
     "output_type": "stream",
     "text": [
      "QITE timestep  21: [energy = -1.570]\n"
     ]
    },
    {
     "name": "stderr",
     "output_type": "stream",
     "text": [
      "QITE:  55%|████████████████████▎                | 22/40 [04:55<04:02, 13.47s/it]"
     ]
    },
    {
     "name": "stdout",
     "output_type": "stream",
     "text": [
      "QITE timestep  22: [energy = -1.635]\n"
     ]
    },
    {
     "name": "stderr",
     "output_type": "stream",
     "text": [
      "QITE:  57%|█████████████████████▎               | 23/40 [05:09<03:48, 13.47s/it]"
     ]
    },
    {
     "name": "stdout",
     "output_type": "stream",
     "text": [
      "QITE timestep  23: [energy = -1.698]\n"
     ]
    },
    {
     "name": "stderr",
     "output_type": "stream",
     "text": [
      "QITE:  60%|██████████████████████▏              | 24/40 [05:22<03:35, 13.47s/it]"
     ]
    },
    {
     "name": "stdout",
     "output_type": "stream",
     "text": [
      "QITE timestep  24: [energy = -1.759]\n"
     ]
    },
    {
     "name": "stderr",
     "output_type": "stream",
     "text": [
      "QITE:  62%|███████████████████████▏             | 25/40 [05:47<04:12, 16.85s/it]"
     ]
    },
    {
     "name": "stdout",
     "output_type": "stream",
     "text": [
      "QITE timestep  25: [energy = -1.819]\n"
     ]
    },
    {
     "name": "stderr",
     "output_type": "stream",
     "text": [
      "QITE:  65%|████████████████████████             | 26/40 [06:00<03:41, 15.84s/it]"
     ]
    },
    {
     "name": "stdout",
     "output_type": "stream",
     "text": [
      "QITE timestep  26: [energy = -1.877]\n"
     ]
    },
    {
     "name": "stderr",
     "output_type": "stream",
     "text": [
      "QITE:  68%|████████████████████████▉            | 27/40 [06:15<03:20, 15.42s/it]"
     ]
    },
    {
     "name": "stdout",
     "output_type": "stream",
     "text": [
      "QITE timestep  27: [energy = -1.934]\n"
     ]
    },
    {
     "name": "stderr",
     "output_type": "stream",
     "text": [
      "QITE:  70%|█████████████████████████▉           | 28/40 [06:29<02:59, 14.99s/it]"
     ]
    },
    {
     "name": "stdout",
     "output_type": "stream",
     "text": [
      "QITE timestep  28: [energy = -1.989]\n"
     ]
    },
    {
     "name": "stderr",
     "output_type": "stream",
     "text": [
      "QITE:  72%|██████████████████████████▊          | 29/40 [06:43<02:44, 14.95s/it]"
     ]
    },
    {
     "name": "stdout",
     "output_type": "stream",
     "text": [
      "QITE timestep  29: [energy = -2.043]\n"
     ]
    },
    {
     "name": "stderr",
     "output_type": "stream",
     "text": [
      "QITE:  75%|███████████████████████████▊         | 30/40 [06:57<02:26, 14.65s/it]"
     ]
    },
    {
     "name": "stdout",
     "output_type": "stream",
     "text": [
      "QITE timestep  30: [energy = -2.095]\n"
     ]
    },
    {
     "name": "stderr",
     "output_type": "stream",
     "text": [
      "QITE:  78%|████████████████████████████▋        | 31/40 [07:12<02:11, 14.56s/it]"
     ]
    },
    {
     "name": "stdout",
     "output_type": "stream",
     "text": [
      "QITE timestep  31: [energy = -2.145]\n"
     ]
    },
    {
     "name": "stderr",
     "output_type": "stream",
     "text": [
      "QITE:  80%|█████████████████████████████▌       | 32/40 [07:26<01:54, 14.36s/it]"
     ]
    },
    {
     "name": "stdout",
     "output_type": "stream",
     "text": [
      "QITE timestep  32: [energy = -2.195]\n"
     ]
    },
    {
     "name": "stderr",
     "output_type": "stream",
     "text": [
      "QITE:  82%|██████████████████████████████▌      | 33/40 [07:40<01:41, 14.44s/it]"
     ]
    },
    {
     "name": "stdout",
     "output_type": "stream",
     "text": [
      "QITE timestep  33: [energy = -2.242]\n"
     ]
    },
    {
     "name": "stderr",
     "output_type": "stream",
     "text": [
      "QITE:  85%|███████████████████████████████▍     | 34/40 [07:55<01:26, 14.45s/it]"
     ]
    },
    {
     "name": "stdout",
     "output_type": "stream",
     "text": [
      "QITE timestep  34: [energy = -2.289]\n"
     ]
    },
    {
     "name": "stderr",
     "output_type": "stream",
     "text": [
      "QITE:  88%|████████████████████████████████▍    | 35/40 [08:09<01:11, 14.28s/it]"
     ]
    },
    {
     "name": "stdout",
     "output_type": "stream",
     "text": [
      "QITE timestep  35: [energy = -2.334]\n"
     ]
    },
    {
     "name": "stderr",
     "output_type": "stream",
     "text": [
      "QITE:  90%|█████████████████████████████████▎   | 36/40 [08:23<00:56, 14.23s/it]"
     ]
    },
    {
     "name": "stdout",
     "output_type": "stream",
     "text": [
      "QITE timestep  36: [energy = -2.377]\n"
     ]
    },
    {
     "name": "stderr",
     "output_type": "stream",
     "text": [
      "QITE:  92%|██████████████████████████████████▏  | 37/40 [08:37<00:42, 14.09s/it]"
     ]
    },
    {
     "name": "stdout",
     "output_type": "stream",
     "text": [
      "QITE timestep  37: [energy = -2.419]\n"
     ]
    },
    {
     "name": "stderr",
     "output_type": "stream",
     "text": [
      "QITE:  95%|███████████████████████████████████▏ | 38/40 [08:51<00:28, 14.13s/it]"
     ]
    },
    {
     "name": "stdout",
     "output_type": "stream",
     "text": [
      "QITE timestep  38: [energy = -2.460]\n"
     ]
    },
    {
     "name": "stderr",
     "output_type": "stream",
     "text": [
      "QITE:  98%|████████████████████████████████████ | 39/40 [09:05<00:14, 14.04s/it]"
     ]
    },
    {
     "name": "stdout",
     "output_type": "stream",
     "text": [
      "QITE timestep  39: [energy = -2.500]\n"
     ]
    },
    {
     "name": "stderr",
     "output_type": "stream",
     "text": [
      "                                                                                "
     ]
    },
    {
     "name": "stdout",
     "output_type": "stream",
     "text": [
      "QITE timestep  40: [energy = -2.538]\n"
     ]
    },
    {
     "name": "stderr",
     "output_type": "stream",
     "text": [
      "\r"
     ]
    }
   ],
   "source": [
    "trained_symbol_values, state = qbm.run_qite(trained_hamiltonian, skip_metrics=True)"
   ]
  },
  {
   "cell_type": "code",
   "execution_count": 10,
   "id": "1c7b5c79",
   "metadata": {
    "tags": []
   },
   "outputs": [],
   "source": [
    "state = circuit_to_state(\n",
    "    circuit,\n",
    "    symbol_names,\n",
    "    trained_symbol_values,\n",
    "    list(range(len(problem_qubits))),\n",
    ")\n",
    "p_model = np.diag(state.numpy().real)"
   ]
  },
  {
   "cell_type": "code",
   "execution_count": 17,
   "id": "2bf811e6-a43e-4688-a1b4-b0ab13af8e54",
   "metadata": {
    "tags": []
   },
   "outputs": [
    {
     "data": {
      "image/png": "[encoded data removed]",
      "text/plain": [
       "<Figure size 640x480 with 1 Axes>"
      ]
     },
     "metadata": {},
     "output_type": "display_data"
    }
   ],
   "source": [
    "import matplotlib.pyplot as plt\n",
    "labels = [ r'$|$'+ \"{:04b}\".format(i) + r'$\\rangle$' for i in range(16)]\n",
    "height = 0.40\n",
    "plt.barh(labels, p_model, -height, align='edge', label='model probabilities')\n",
    "plt.barh(labels, p_data, +height, align='edge', label='true probabilities')\n",
    "plt.legend()\n",
    "args = {\"format\": 'pdf', \"bbox_inches\": \"tight\"}\n",
    "plt.savefig('probabilities.pdf', **args)\n",
    "plt.show()\n",
    "#Check https://stackoverflow.com/questions/5792728/how-to-plot-a-grouped-bar-chart-from-multiple-datasets"
   ]
  },
  {
   "cell_type": "markdown",
   "id": "2c1bd58c",
   "metadata": {},
   "source": [
    "Draw samples from probability distribution"
   ]
  },
  {
   "cell_type": "code",
   "execution_count": 18,
   "id": "3c00f696-da10-47b7-a0dc-216eba900d9d",
   "metadata": {
    "tags": []
   },
   "outputs": [
    {
     "name": "stdout",
     "output_type": "stream",
     "text": [
      "[0.01815452 0.0069386  0.08539622 0.15182838 0.08826628 0.15718935\n",
      " 0.00601087 0.00526609 0.00932413 0.00853491 0.14877054 0.08033546\n",
      " 0.14069463 0.07905903 0.00292123 0.01130965]\n"
     ]
    }
   ],
   "source": [
    "print(p_model)"
   ]
  },
  {
   "cell_type": "code",
   "execution_count": 22,
   "id": "d97478b8",
   "metadata": {
    "tags": []
   },
   "outputs": [],
   "source": [
    "plot_dataset(samples_from_distribution(p_model, n = 12), file_format=\"pdf\", size = 2, save=True, sort=False, titles=True)"
   ]
  },
  {
   "cell_type": "code",
   "execution_count": 33,
   "id": "2b022126",
   "metadata": {
    "tags": []
   },
   "outputs": [
    {
     "data": {
      "image/png": "[encoded data removed]",
      "text/plain": [
       "<Figure size 800x600 with 10 Axes>"
      ]
     },
     "metadata": {},
     "output_type": "display_data"
    }
   ],
   "source": [
    "plot_dataset(samples_from_distribution(p_model, n = 10), file_format=\"png\", size = 2, save=False, sort=False, titles=True)"
   ]
  },
  {
   "cell_type": "markdown",
   "id": "ebaef846",
   "metadata": {},
   "source": [
    "As it is visible the model generates valid stripes but it also includes quite a lot of samples not beloging to bars and stripes. This clearly indicates that model was did not perform well enough given that the dataset is rather simple."
   ]
  },
  {
   "cell_type": "code",
   "execution_count": null,
   "id": "7209182b",
   "metadata": {},
   "outputs": [],
   "source": []
  }
 ],
 "metadata": {
  "kernelspec": {
   "display_name": "Python 3 (ipykernel)",
   "language": "python",
   "name": "python3"
  },
  "language_info": {
   "codemirror_mode": {
    "name": "ipython",
    "version": 3
   },
   "file_extension": ".py",
   "mimetype": "text/x-python",
   "name": "python",
   "nbconvert_exporter": "python",
   "pygments_lexer": "ipython3",
   "version": "3.7.12"
  }
 },
 "nbformat": 4,
 "nbformat_minor": 5
}
